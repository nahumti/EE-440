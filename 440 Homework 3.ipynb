{
 "cells": [
  {
   "cell_type": "markdown",
   "metadata": {},
   "source": [
    "# Homework 3\n",
    "Nahum Tilahun\n",
    "Student ID: 1620183\n",
    "EE 440"
   ]
  },
  {
   "cell_type": "code",
   "execution_count": 13,
   "metadata": {},
   "outputs": [],
   "source": [
    "#import cell\n",
    "import numpy as np\n",
    "import cv2\n",
    "from skimage import color"
   ]
  },
  {
   "cell_type": "code",
   "execution_count": 14,
   "metadata": {},
   "outputs": [],
   "source": [
    "#Problem 1\n",
    "image = cv2.imread('3_1.bmp')\n",
    "image = ~image\n",
    "cv2.imwrite('3_1neg.bmp', image)\n",
    "\n",
    "negative = cv2.imread('3_1neg.bmp')\n",
    "cv2.imshow('negative', negative)\n",
    "cv2.waitKey(0)\n",
    "cv2.destroyAllWindows()\n"
   ]
  },
  {
   "cell_type": "code",
   "execution_count": 23,
   "metadata": {},
   "outputs": [],
   "source": [
    "#Problem 2\n",
    "#RGB components of image\n",
    "image2 = cv2.imread('3_2.bmp')\n",
    "blue = np.zeros((202, 282, 3))\n",
    "green = np.zeros((202, 282, 3))\n",
    "red = np.zeros((202, 282, 3)) \n",
    "\n",
    "#blue component\n",
    "for i in range(image2.shape[0]):\n",
    "    for j in range(image2.shape[1]):\n",
    "        blue[i, j, 0] = image2[i, j, 0]\n",
    "\n",
    "#green component\n",
    "for i in range(image2.shape[0]):\n",
    "    for j in range(image2.shape[1]):\n",
    "        green[i, j, 1] = image2[i, j, 1]\n",
    "\n",
    "#red component\n",
    "for i in range(image2.shape[0]):\n",
    "    for j in range(image2.shape[1]):\n",
    "        red[i, j, 2] = image2[i, j, 2]\n",
    "\n",
    "cv2.imwrite('red.jpg', red)\n",
    "red_image = cv2.imread('red.jpg')\n",
    "\n",
    "\n",
    "cv2.imwrite('green.jpg', green)\n",
    "green_image = cv2.imread('green.jpg')\n",
    "\n",
    "\n",
    "cv2.imwrite('blue.jpg', blue)\n",
    "blue_image = cv2.imread('blue.jpg')\n",
    "\n",
    "cv2.imshow('red', red_image)\n",
    "cv2.imshow('green', green_image)\n",
    "cv2.imshow('blue', blue_image)\n",
    "\n",
    "cv2.waitKey(0)\n",
    "cv2.destroyAllWindows()\n",
    "\n",
    "#HSv components\n",
    "image2hsv = cv2.cvtColor(image2,cv2.COLOR_BGR2HSV)\n",
    "hue = np.zeros((202, 282))\n",
    "sat = np.zeros((202, 282))\n",
    "val = np.zeros((202, 282)) \n",
    "\n",
    "\n",
    "for i in range(image2hsv.shape[0]):\n",
    "    for j in range(image2hsv.shape[1]):\n",
    "        hue[i, j] = image2hsv[i, j, 0]\n",
    "        \n",
    "for i in range(image2hsv.shape[0]):\n",
    "    for j in range(image2hsv.shape[1]):\n",
    "        sat[i, j] = image2hsv[i, j, 1]\n",
    "        \n",
    "for i in range(image2hsv.shape[0]):\n",
    "    for j in range(image2hsv.shape[1]):\n",
    "        val[i, j] = image2hsv[i, j, 2]\n",
    "\n",
    "cv2.imwrite('hue.jpg', hue)\n",
    "hue_image = cv2.imread('hue.jpg')\n",
    "cv2.imshow('hue', hue_image)\n",
    "cv2.waitKey(0)\n",
    "cv2.destroyAllWindows()\n",
    "\n",
    "cv2.imwrite('sat.jpg', sat)\n",
    "sat_image = cv2.imread('sat.jpg')\n",
    "cv2.imshow('red', sat_image)\n",
    "cv2.waitKey(0)\n",
    "cv2.destroyAllWindows()\n",
    "\n",
    "cv2.imwrite('val.jpg', val)\n",
    "val_image = cv2.imread('val.jpg')\n",
    "cv2.imshow('red', val_image)\n",
    "cv2.waitKey(0)\n",
    "cv2.destroyAllWindows()\n",
    "\n"
   ]
  },
  {
   "cell_type": "code",
   "execution_count": null,
   "metadata": {},
   "outputs": [],
   "source": []
  }
 ],
 "metadata": {
  "kernelspec": {
   "display_name": "Python 3",
   "language": "python",
   "name": "python3"
  },
  "language_info": {
   "codemirror_mode": {
    "name": "ipython",
    "version": 3
   },
   "file_extension": ".py",
   "mimetype": "text/x-python",
   "name": "python",
   "nbconvert_exporter": "python",
   "pygments_lexer": "ipython3",
   "version": "3.7.0"
  }
 },
 "nbformat": 4,
 "nbformat_minor": 2
}
