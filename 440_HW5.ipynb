{
 "cells": [
  {
   "cell_type": "code",
   "execution_count": 1,
   "metadata": {},
   "outputs": [],
   "source": [
    "import numpy as np\n",
    "import cv2\n",
    "from skimage import color\n",
    "import random as rand"
   ]
  },
  {
   "cell_type": "markdown",
   "metadata": {},
   "source": [
    "## Problem 1"
   ]
  },
  {
   "cell_type": "code",
   "execution_count": 2,
   "metadata": {},
   "outputs": [],
   "source": [
    "#create salt and pepper image utilizing random function and comparing \n",
    "#percent of noise desired with the randomly generated number\n",
    "image = cv2.imread('5_1.bmp')\n",
    "image2hsv = cv2.cvtColor(image, cv2.COLOR_BGR2HSV)\n",
    "x, y, z = image2hsv.shape\n",
    "perc = 0.15\n",
    "opp_perc = 1 - perc\n",
    "\n",
    "for i in range(x):\n",
    "    for j in range(y):\n",
    "        pick = rand.random()\n",
    "        if pick < perc:\n",
    "            image2hsv[i,j,2] = 0\n",
    "        elif pick > opp_perc:\n",
    "            image2hsv[i,j,2] = 255\n",
    "        else:\n",
    "            image2hsv[i,j,2] = image2hsv[i,j,2]\n",
    "    \n",
    "\n",
    "sp_image = image2hsv\n",
    "sp_image2 = cv2.cvtColor(sp_image, cv2.COLOR_HSV2BGR)\n",
    "cv2.imshow('sp_image', sp_image2)\n",
    "cv2.waitKey(0)\n",
    "cv2.destroyAllWindows()"
   ]
  },
  {
   "cell_type": "code",
   "execution_count": 3,
   "metadata": {},
   "outputs": [],
   "source": [
    "#Low Pass Filter\n",
    "LPF = 1/16 * np.ones([4,4])\n",
    "reduced_im = cv2.filter2D(image2hsv, -1, LPF)\n",
    "\n",
    "display_im = cv2.cvtColor(reduced_im, cv2.COLOR_HSV2BGR)\n",
    "cv2.imshow('Low Pass Filtered Image', display_im)\n",
    "cv2.waitKey(0)\n",
    "cv2.destroyAllWindows()"
   ]
  },
  {
   "cell_type": "markdown",
   "metadata": {},
   "source": [
    "### Comments \n",
    "This filter basically blurs the photo based on the size of the filter. The bigger the size using my method, the more blur that occurs"
   ]
  },
  {
   "cell_type": "code",
   "execution_count": 5,
   "metadata": {},
   "outputs": [],
   "source": [
    "#Median Filter\n",
    "v_channel = sp_image[:,:,2]\n",
    "\n",
    "scanImage = cv2.copyMakeBorder(v_channel, 1, 1, 1, 1, cv2.BORDER_REPLICATE)\n",
    "\n",
    "for i in range(x):                           \n",
    "    for j in range(y):\n",
    "        array = scanImage[i:i+3, j:j+3]\n",
    "        value = np.median(array)\n",
    "        v_channel[i,j] = value\n",
    "\n",
    "\n",
    "median_image = np.dstack((sp_image[:,:,0], sp_image[:,:,1], v_channel[:,:]))\n",
    "med_image = cv2.cvtColor(median_image, cv2.COLOR_HSV2BGR)\n",
    "cv2.imshow('Median Filtered Image', med_image)\n",
    "cv2.waitKey(0)\n",
    "cv2.destroyAllWindows()"
   ]
  },
  {
   "cell_type": "markdown",
   "metadata": {},
   "source": [
    "### Comments\n",
    "This filter actually cleans up the image a good amount. Once again the size of the filter affets to quality of the filtering. The bigger the size of the filter the better the result"
   ]
  },
  {
   "cell_type": "markdown",
   "metadata": {},
   "source": [
    "## Problem 2"
   ]
  },
  {
   "cell_type": "code",
   "execution_count": 113,
   "metadata": {},
   "outputs": [
    {
     "name": "stdout",
     "output_type": "stream",
     "text": [
      "[[-1 -1 -1]\n",
      " [-1 10 -1]\n",
      " [-1 -1 -1]]\n"
     ]
    }
   ],
   "source": [
    "image = cv2.imread('5_2.bmp')\n",
    "image_gray = cv2.cvtColor(image, cv2.COLOR_BGR2HSV)\n",
    "image_v = image_gray[:,:,2]\n",
    "\n",
    "A = 2\n",
    "boost = np.array([-1, -1, -1, -1, 8 + A, -1, -1, -1, -1])\n",
    "boost = boost.reshape((3,3))\n",
    "print(boost)\n",
    "\n",
    "conv_v = cv2.filter2D(image_v, -1, boost)\n",
    "new_image = np.dstack((image_gray[:,:,0], image_gray[:,:,1], conv_v[:,:]))\n",
    "new_color = cv2.cvtColor(new_image, cv2.COLOR_HSV2BGR)\n",
    "cv2.imshow('Boosted Image', new_color)\n",
    "cv2.waitKey(0)\n",
    "cv2.destroyAllWindows()"
   ]
  },
  {
   "cell_type": "code",
   "execution_count": null,
   "metadata": {},
   "outputs": [],
   "source": []
  }
 ],
 "metadata": {
  "kernelspec": {
   "display_name": "Python 3",
   "language": "python",
   "name": "python3"
  },
  "language_info": {
   "codemirror_mode": {
    "name": "ipython",
    "version": 3
   },
   "file_extension": ".py",
   "mimetype": "text/x-python",
   "name": "python",
   "nbconvert_exporter": "python",
   "pygments_lexer": "ipython3",
   "version": "3.7.0"
  }
 },
 "nbformat": 4,
 "nbformat_minor": 2
}
